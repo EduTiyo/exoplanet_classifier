{
 "cells": [
  {
   "cell_type": "code",
   "execution_count": 1,
   "id": "8b3b3397",
   "metadata": {},
   "outputs": [],
   "source": [
    "import pandas as pd\n",
    "import numpy as np"
   ]
  },
  {
   "cell_type": "code",
   "execution_count": null,
   "id": "27656a47",
   "metadata": {},
   "outputs": [],
   "source": [
    "print('Loading dataframe...')\n",
    "df = pd.read_csv('data/TOI_2025.10.04_05.29.58.csv', comment='#', on_bad_lines='skip')\n",
    "df=df.drop(columns=['toi_created','rowupdate'])\n",
    "print('Dataframe loaded successfully!', end='\\n\\n')\n",
    "\n",
    "print('Dataframe shape:', df.shape, end='\\n\\n')\n",
    "\n",
    "print('Dataframe preview:')\n",
    "display(df.head())\n",
    "display(df.info()) # Summary of the dataframe\n",
    "display(df.describe()) # Statistical summary of numerical columns\n",
    "display(df.isnull().sum()) # Count of missing values per column\n",
    "\n"
   ]
  },
  {
   "cell_type": "code",
   "execution_count": null,
   "id": "709839de",
   "metadata": {},
   "outputs": [],
   "source": [
    "df.dropna(inplace=True)\n",
    "print('Dataframe shape after dropping missing values:', df.shape, end='\\n\\n')"
   ]
  },
  {
   "cell_type": "markdown",
   "id": "a68490f3",
   "metadata": {},
   "source": [
    "# SVM classification com scikit-learn\n",
    "Vamos treinar uma SVM para prever `tfopwg_disp` (disposição TFOPWG). O pipeline a seguir inclui:\n",
    "- imputação de valores faltantes (mediana),\n",
    "- padronização (StandardScaler),\n",
    "- SVC (com busca em grade para hiperparâmetros)."
   ]
  },
  {
   "cell_type": "code",
   "execution_count": null,
   "id": "0016ff13",
   "metadata": {},
   "outputs": [],
   "source": [
    "# Imports para modelagem\n",
    "%pip install matplotlib\n",
    "from sklearn.model_selection import train_test_split, GridSearchCV\n",
    "from sklearn.pipeline import Pipeline\n",
    "from sklearn.impute import SimpleImputer\n",
    "from sklearn.preprocessing import StandardScaler\n",
    "from sklearn.svm import SVC\n",
    "from sklearn.metrics import classification_report, confusion_matrix, ConfusionMatrixDisplay\n",
    "import matplotlib.pyplot as plt\n",
    "import joblib\n",
    "import numpy as np\n",
    "print('Imports carregados')"
   ]
  },
  {
   "cell_type": "code",
   "execution_count": null,
   "id": "e41e9db1",
   "metadata": {},
   "outputs": [],
   "source": [
    "df = df.iloc[:3000].copy()\n",
    "\n",
    "df['tfopwg_disp'] = df['tfopwg_disp'].astype('category')\n",
    "print('Contagem por classe (tfopwg_disp):')\n",
    "display(df['tfopwg_disp'].value_counts())\n",
    "# Manter apenas linhas com target não nulo\n",
    "df = df[df['tfopwg_disp'].notna()]\n",
    "print('Shape após filtrar target:', df.shape)"
   ]
  },
  {
   "cell_type": "code",
   "execution_count": null,
   "id": "f445302c",
   "metadata": {},
   "outputs": [],
   "source": [
    "# Selecionar features numéricas (exceto colunas temporais/irrelevantes)\n",
    "numeric_cols = df.select_dtypes(include=[np.number]).columns.tolist()\n",
    "# Remover coluna de tempo do trânsito (se presente) porque é um timestamp\n",
    "if 'pl_tranmid' in numeric_cols:\n",
    "    numeric_cols.remove('pl_tranmid')\n",
    "# Preparar X e y\n",
    "X = df[numeric_cols].copy()\n",
    "y = df['tfopwg_disp'].copy()\n",
    "print('Features usadas (numéricas):', numeric_cols)\n",
    "print('Missing values por feature:')\n",
    "display(X.isnull().sum())"
   ]
  },
  {
   "cell_type": "code",
   "execution_count": null,
   "id": "aa2de47b",
   "metadata": {},
   "outputs": [],
   "source": [
    "# Split estratificado e pipeline com SVM\n",
    "X_train, X_test, y_train, y_test = train_test_split(X, y, test_size=0.2, random_state=42, stratify=y)\n",
    "\n",
    "pipeline = Pipeline([\n",
    "    ('imputer', SimpleImputer(strategy='median')),\n",
    "    ('scaler', StandardScaler()),\n",
    "    ('svc', SVC(class_weight='balanced'))\n",
    "])\n",
    "\n",
    "param_grid = {\n",
    "    'svc__kernel': ['rbf', 'linear', 'polynomial', 'sigmoid'],\n",
    "    'svc__C': [0.1, 1, 10, 100],\n",
    "    'svc__gamma': ['scale', 'auto', 0.001, 0.01, 0.1],\n",
    "    'svc__degree': [2, 3, 4],\n",
    "    'svc__coef0': [0.0, 0.1, 0.5, 1.0]\n",
    "}\n",
    "\n",
    "grid = GridSearchCV(pipeline, param_grid, cv=5, n_jobs=-1, scoring='f1_macro')\n",
    "print('Iniciando GridSearchCV (pode demorar) ...')\n",
    "grid.fit(X_train, y_train)\n",
    "print('Melhores parâmetros:', grid.best_params_)\n",
    "print('Melhor CV score:', grid.best_score_)"
   ]
  },
  {
   "cell_type": "code",
   "execution_count": null,
   "id": "04d24649",
   "metadata": {},
   "outputs": [],
   "source": [
    "# Avaliação no conjunto de teste\n",
    "best = grid.best_estimator_\n",
    "y_pred = best.predict(X_test)\n",
    "print(classification_report(y_test, y_pred))\n",
    "cm = confusion_matrix(y_test, y_pred, labels=best.classes_)\n",
    "disp = ConfusionMatrixDisplay(confusion_matrix=cm, display_labels=best.classes_)\n",
    "fig, ax = plt.subplots(figsize=(8,6))\n",
    "disp.plot(ax=ax, cmap='Blues')\n",
    "plt.title('Matriz de confusão')\n",
    "plt.show()"
   ]
  },
  {
   "cell_type": "code",
   "execution_count": null,
   "id": "e05753ea",
   "metadata": {},
   "outputs": [],
   "source": [
    "# Salvar modelo para uso futuro\n",
    "joblib.dump(grid.best_estimator_, 'svm_tfopwg_disp_pipeline.joblib')\n",
    "print('Modelo salvo em svm_tfopwg_disp_pipeline.joblib')"
   ]
  },
  {
   "cell_type": "code",
   "execution_count": null,
   "id": "6531637b-4b98-42ef-bfc6-961f606e9804",
   "metadata": {},
   "outputs": [],
   "source": []
  }
 ],
 "metadata": {
  "kernelspec": {
   "display_name": "Python 3 (ipykernel)",
   "language": "python",
   "name": "python3"
  },
  "language_info": {
   "codemirror_mode": {
    "name": "ipython",
    "version": 3
   },
   "file_extension": ".py",
   "mimetype": "text/x-python",
   "name": "python",
   "nbconvert_exporter": "python",
   "pygments_lexer": "ipython3",
   "version": "3.13.7"
  }
 },
 "nbformat": 4,
 "nbformat_minor": 5
}
