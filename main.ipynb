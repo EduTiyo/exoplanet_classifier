{
 "cells": [
  {
   "cell_type": "code",
   "execution_count": 21,
   "id": "8b3b3397",
   "metadata": {},
   "outputs": [
    {
     "name": "stdout",
     "output_type": "stream",
     "text": [
      "Imports loaded\n"
     ]
    }
   ],
   "source": [
    "import pandas as pd\n",
    "import numpy as np\n",
    "import warnings\n",
    "warnings.filterwarnings('ignore')\n",
    "import logging\n",
    "logging.basicConfig(level=logging.INFO, format='%(asctime)s %(levelname)s: %(message)s')\n",
    "logger = logging.getLogger(__name__)\n",
    "\n",
    "from sklearn.model_selection import train_test_split, GridSearchCV\n",
    "from sklearn.pipeline import Pipeline\n",
    "from sklearn.impute import SimpleImputer\n",
    "from sklearn.preprocessing import StandardScaler\n",
    "from sklearn.svm import SVC\n",
    "from sklearn.metrics import classification_report, confusion_matrix, ConfusionMatrixDisplay\n",
    "from sklearn.decomposition import PCA\n",
    "import matplotlib.pyplot as plt\n",
    "import joblib\n",
    "from sklearn.ensemble import VotingClassifier\n",
    "import lightgbm as lgb\n",
    "\n",
    "print('Imports loaded')"
   ]
  },
  {
   "cell_type": "code",
   "execution_count": 22,
   "id": "27656a47",
   "metadata": {},
   "outputs": [
    {
     "name": "stdout",
     "output_type": "stream",
     "text": [
      "Loading dataframe...\n",
      "Dataframe loaded successfully!\n",
      "\n",
      "Dataframe shape: (7703, 19) \n",
      "\n"
     ]
    }
   ],
   "source": [
    "# Load the dataset\n",
    "print('Loading dataframe...')\n",
    "df = pd.read_csv('data/TOI_2025.10.04_05.29.58.csv', comment='#', on_bad_lines='skip')\n",
    "df = df.drop(columns=['toi', 'tid', 'toi_created', 'rowupdate'])\n",
    "print('Dataframe loaded successfully!\\n')\n",
    "\n",
    "print('Dataframe shape:', df.shape, '\\n')"
   ]
  },
  {
   "cell_type": "code",
   "execution_count": 23,
   "id": "709839de",
   "metadata": {},
   "outputs": [
    {
     "name": "stdout",
     "output_type": "stream",
     "text": [
      "Dataframe shape after dropping missing values: (6589, 19) \n",
      "\n"
     ]
    }
   ],
   "source": [
    "# --- Data Cleaning ---\n",
    "# Drop rows with missing values\n",
    "df.dropna(inplace=True)\n",
    "print('Dataframe shape after dropping missing values:', df.shape, '\\n')\n"
   ]
  },
  {
   "cell_type": "code",
   "execution_count": 24,
   "id": "0df47073",
   "metadata": {},
   "outputs": [],
   "source": [
    "# --- Feature Selection ---\n",
    "# Select numerical features\n",
    "numeric_cols = df.select_dtypes(include=[np.number]).columns.tolist()\n",
    "# Remove transit time column (if present) as it's a timestamp\n",
    "if 'pl_tranmid' in numeric_cols:\n",
    "    numeric_cols.remove('pl_tranmid')\n",
    "\n"
   ]
  },
  {
   "cell_type": "code",
   "execution_count": 25,
   "id": "f445302c",
   "metadata": {},
   "outputs": [
    {
     "name": "stdout",
     "output_type": "stream",
     "text": [
      "Features used (numerical): ['ra', 'dec', 'st_pmra', 'st_pmdec', 'pl_orbper', 'pl_trandurh', 'pl_trandep', 'pl_rade', 'pl_insol', 'pl_eqt', 'st_tmag', 'st_dist', 'st_teff', 'st_logg', 'st_rad']\n",
      "Missing values per feature:\n"
     ]
    },
    {
     "data": {
      "text/plain": [
       "ra             0\n",
       "dec            0\n",
       "st_pmra        0\n",
       "st_pmdec       0\n",
       "pl_orbper      0\n",
       "pl_trandurh    0\n",
       "pl_trandep     0\n",
       "pl_rade        0\n",
       "pl_insol       0\n",
       "pl_eqt         0\n",
       "st_tmag        0\n",
       "st_dist        0\n",
       "st_teff        0\n",
       "st_logg        0\n",
       "st_rad         0\n",
       "dtype: int64"
      ]
     },
     "metadata": {},
     "output_type": "display_data"
    }
   ],
   "source": [
    "# Prepare X and y\n",
    "X = df[numeric_cols].copy()\n",
    "y = df['tfopwg_disp'].copy()\n",
    "\n",
    "print('Features used (numerical):', numeric_cols)\n",
    "print('Missing values per feature:')\n",
    "display(X.isnull().sum())"
   ]
  },
  {
   "cell_type": "code",
   "execution_count": null,
   "id": "ce649ca0",
   "metadata": {},
   "outputs": [],
   "source": []
  },
  {
   "cell_type": "code",
   "execution_count": null,
   "id": "aa2de47b",
   "metadata": {},
   "outputs": [
    {
     "name": "stderr",
     "output_type": "stream",
     "text": [
      "2025-10-05 09:23:57,715 INFO: Starting training for category: FP\n",
      "2025-10-05 09:23:57,720 INFO: Train/test split sizes for 'FP': 5271 train, 1318 test\n",
      "2025-10-05 09:23:57,720 INFO: Train/test split sizes for 'FP': 5271 train, 1318 test\n",
      "2025-10-05 09:23:57,731 INFO: Starting GridSearchCV for 'FP' with param grid: {'lgbm__n_estimators': [100, 200, 500], 'lgbm__learning_rate': [0.01, 0.05, 0.1], 'lgbm__num_leaves': [31, 50, 70]}\n",
      "2025-10-05 09:23:57,731 INFO: Starting GridSearchCV for 'FP' with param grid: {'lgbm__n_estimators': [100, 200, 500], 'lgbm__learning_rate': [0.01, 0.05, 0.1], 'lgbm__num_leaves': [31, 50, 70]}\n",
      "2025-10-05 09:25:54,699 INFO: GridSearchCV finished for 'FP' in 117.0s\n",
      "2025-10-05 09:25:54,700 INFO: Best parameters for FP: {'lgbm__learning_rate': 0.1, 'lgbm__n_estimators': 500, 'lgbm__num_leaves': 70}\n",
      "2025-10-05 09:25:54,700 INFO: Best CV score for FP: 0.3902\n",
      "2025-10-05 09:25:54,701 INFO: Fitting LGBMClassifier (sklearn API) for 'FP' with early_stopping_rounds=50\n",
      "2025-10-05 09:25:54,701 WARNING: sklearn fit with early_stopping_rounds raised TypeError for 'FP': LGBMClassifier.fit() got an unexpected keyword argument 'early_stopping_rounds'. Trying callbacks API...\n",
      "2025-10-05 09:25:54,699 INFO: GridSearchCV finished for 'FP' in 117.0s\n",
      "2025-10-05 09:25:54,700 INFO: Best parameters for FP: {'lgbm__learning_rate': 0.1, 'lgbm__n_estimators': 500, 'lgbm__num_leaves': 70}\n",
      "2025-10-05 09:25:54,700 INFO: Best CV score for FP: 0.3902\n",
      "2025-10-05 09:25:54,701 INFO: Fitting LGBMClassifier (sklearn API) for 'FP' with early_stopping_rounds=50\n",
      "2025-10-05 09:25:54,701 WARNING: sklearn fit with early_stopping_rounds raised TypeError for 'FP': LGBMClassifier.fit() got an unexpected keyword argument 'early_stopping_rounds'. Trying callbacks API...\n",
      "2025-10-05 09:25:54,874 INFO: sklearn fit with callbacks complete for 'FP'\n",
      "2025-10-05 09:25:54,885 INFO: Evaluation for 'FP':\n",
      "              precision    recall  f1-score   support\n",
      "\n",
      "           0       0.88      0.98      0.93      1130\n",
      "           1       0.65      0.22      0.33       188\n",
      "\n",
      "    accuracy                           0.87      1318\n",
      "   macro avg       0.76      0.60      0.63      1318\n",
      "weighted avg       0.85      0.87      0.84      1318\n",
      "\n",
      "2025-10-05 09:25:54,874 INFO: sklearn fit with callbacks complete for 'FP'\n",
      "2025-10-05 09:25:54,885 INFO: Evaluation for 'FP':\n",
      "              precision    recall  f1-score   support\n",
      "\n",
      "           0       0.88      0.98      0.93      1130\n",
      "           1       0.65      0.22      0.33       188\n",
      "\n",
      "    accuracy                           0.87      1318\n",
      "   macro avg       0.76      0.60      0.63      1318\n",
      "weighted avg       0.85      0.87      0.84      1318\n",
      "\n",
      "2025-10-05 09:25:54,885 INFO: Finished category 'FP' in 117.2s\n",
      "2025-10-05 09:25:54,886 INFO: Starting training for category: PC\n",
      "2025-10-05 09:25:54,894 INFO: Train/test split sizes for 'PC': 5271 train, 1318 test\n",
      "2025-10-05 09:25:54,885 INFO: Finished category 'FP' in 117.2s\n",
      "2025-10-05 09:25:54,886 INFO: Starting training for category: PC\n",
      "2025-10-05 09:25:54,894 INFO: Train/test split sizes for 'PC': 5271 train, 1318 test\n",
      "2025-10-05 09:25:54,907 INFO: Starting GridSearchCV for 'PC' with param grid: {'lgbm__n_estimators': [100, 200, 500], 'lgbm__learning_rate': [0.01, 0.05, 0.1], 'lgbm__num_leaves': [31, 50, 70]}\n",
      "2025-10-05 09:25:54,907 INFO: Starting GridSearchCV for 'PC' with param grid: {'lgbm__n_estimators': [100, 200, 500], 'lgbm__learning_rate': [0.01, 0.05, 0.1], 'lgbm__num_leaves': [31, 50, 70]}\n"
     ]
    },
    {
     "name": "stdout",
     "output_type": "stream",
     "text": [
      "Training until validation scores don't improve for 50 rounds\n",
      "Early stopping, best iteration is:\n",
      "[27]\tvalid_0's binary_logloss: 0.319296\n"
     ]
    },
    {
     "name": "stderr",
     "output_type": "stream",
     "text": [
      "2025-10-05 09:27:42,133 INFO: GridSearchCV finished for 'PC' in 107.2s\n",
      "2025-10-05 09:27:42,134 INFO: Best parameters for PC: {'lgbm__learning_rate': 0.1, 'lgbm__n_estimators': 100, 'lgbm__num_leaves': 70}\n",
      "2025-10-05 09:27:42,134 INFO: Best CV score for PC: 0.7939\n",
      "2025-10-05 09:27:42,135 INFO: Fitting LGBMClassifier (sklearn API) for 'PC' with early_stopping_rounds=50\n",
      "2025-10-05 09:27:42,135 WARNING: sklearn fit with early_stopping_rounds raised TypeError for 'PC': LGBMClassifier.fit() got an unexpected keyword argument 'early_stopping_rounds'. Trying callbacks API...\n",
      "2025-10-05 09:27:42,134 INFO: Best parameters for PC: {'lgbm__learning_rate': 0.1, 'lgbm__n_estimators': 100, 'lgbm__num_leaves': 70}\n",
      "2025-10-05 09:27:42,134 INFO: Best CV score for PC: 0.7939\n",
      "2025-10-05 09:27:42,135 INFO: Fitting LGBMClassifier (sklearn API) for 'PC' with early_stopping_rounds=50\n",
      "2025-10-05 09:27:42,135 WARNING: sklearn fit with early_stopping_rounds raised TypeError for 'PC': LGBMClassifier.fit() got an unexpected keyword argument 'early_stopping_rounds'. Trying callbacks API...\n"
     ]
    },
    {
     "name": "stdout",
     "output_type": "stream",
     "text": [
      "Training until validation scores don't improve for 50 rounds\n"
     ]
    },
    {
     "name": "stderr",
     "output_type": "stream",
     "text": [
      "2025-10-05 09:27:42,359 INFO: sklearn fit with callbacks complete for 'PC'\n",
      "2025-10-05 09:27:42,372 INFO: Evaluation for 'PC':\n",
      "              precision    recall  f1-score   support\n",
      "\n",
      "           0       0.72      0.63      0.67       517\n",
      "           1       0.78      0.84      0.81       801\n",
      "\n",
      "    accuracy                           0.76      1318\n",
      "   macro avg       0.75      0.74      0.74      1318\n",
      "weighted avg       0.76      0.76      0.76      1318\n",
      "\n",
      "2025-10-05 09:27:42,373 INFO: Finished category 'PC' in 107.5s\n",
      "2025-10-05 09:27:42,374 INFO: Starting training for category: KP\n",
      "2025-10-05 09:27:42,382 INFO: Train/test split sizes for 'KP': 5271 train, 1318 test\n",
      "2025-10-05 09:27:42,372 INFO: Evaluation for 'PC':\n",
      "              precision    recall  f1-score   support\n",
      "\n",
      "           0       0.72      0.63      0.67       517\n",
      "           1       0.78      0.84      0.81       801\n",
      "\n",
      "    accuracy                           0.76      1318\n",
      "   macro avg       0.75      0.74      0.74      1318\n",
      "weighted avg       0.76      0.76      0.76      1318\n",
      "\n",
      "2025-10-05 09:27:42,373 INFO: Finished category 'PC' in 107.5s\n",
      "2025-10-05 09:27:42,374 INFO: Starting training for category: KP\n",
      "2025-10-05 09:27:42,382 INFO: Train/test split sizes for 'KP': 5271 train, 1318 test\n",
      "2025-10-05 09:27:42,394 INFO: Starting GridSearchCV for 'KP' with param grid: {'lgbm__n_estimators': [100, 200, 500], 'lgbm__learning_rate': [0.01, 0.05, 0.1], 'lgbm__num_leaves': [31, 50, 70]}\n",
      "2025-10-05 09:27:42,394 INFO: Starting GridSearchCV for 'KP' with param grid: {'lgbm__n_estimators': [100, 200, 500], 'lgbm__learning_rate': [0.01, 0.05, 0.1], 'lgbm__num_leaves': [31, 50, 70]}\n"
     ]
    },
    {
     "name": "stdout",
     "output_type": "stream",
     "text": [
      "Early stopping, best iteration is:\n",
      "[52]\tvalid_0's binary_logloss: 0.504887\n"
     ]
    },
    {
     "name": "stderr",
     "output_type": "stream",
     "text": [
      "2025-10-05 09:29:28,387 INFO: GridSearchCV finished for 'KP' in 106.0s\n",
      "2025-10-05 09:29:28,387 INFO: Best parameters for KP: {'lgbm__learning_rate': 0.1, 'lgbm__n_estimators': 500, 'lgbm__num_leaves': 31}\n",
      "2025-10-05 09:29:28,388 INFO: Best CV score for KP: 0.4207\n",
      "2025-10-05 09:29:28,388 INFO: Fitting LGBMClassifier (sklearn API) for 'KP' with early_stopping_rounds=50\n",
      "2025-10-05 09:29:28,389 WARNING: sklearn fit with early_stopping_rounds raised TypeError for 'KP': LGBMClassifier.fit() got an unexpected keyword argument 'early_stopping_rounds'. Trying callbacks API...\n",
      "2025-10-05 09:29:28,387 INFO: Best parameters for KP: {'lgbm__learning_rate': 0.1, 'lgbm__n_estimators': 500, 'lgbm__num_leaves': 31}\n",
      "2025-10-05 09:29:28,388 INFO: Best CV score for KP: 0.4207\n",
      "2025-10-05 09:29:28,388 INFO: Fitting LGBMClassifier (sklearn API) for 'KP' with early_stopping_rounds=50\n",
      "2025-10-05 09:29:28,389 WARNING: sklearn fit with early_stopping_rounds raised TypeError for 'KP': LGBMClassifier.fit() got an unexpected keyword argument 'early_stopping_rounds'. Trying callbacks API...\n",
      "2025-10-05 09:29:28,536 INFO: sklearn fit with callbacks complete for 'KP'\n",
      "2025-10-05 09:29:28,536 INFO: sklearn fit with callbacks complete for 'KP'\n",
      "2025-10-05 09:29:28,548 INFO: Evaluation for 'KP':\n",
      "              precision    recall  f1-score   support\n",
      "\n",
      "           0       0.94      0.99      0.96      1206\n",
      "           1       0.73      0.32      0.45       112\n",
      "\n",
      "    accuracy                           0.93      1318\n",
      "   macro avg       0.84      0.66      0.71      1318\n",
      "weighted avg       0.92      0.93      0.92      1318\n",
      "\n",
      "2025-10-05 09:29:28,548 INFO: Finished category 'KP' in 106.2s\n",
      "2025-10-05 09:29:28,549 INFO: Starting training for category: APC\n",
      "2025-10-05 09:29:28,555 INFO: Train/test split sizes for 'APC': 5271 train, 1318 test\n",
      "2025-10-05 09:29:28,548 INFO: Evaluation for 'KP':\n",
      "              precision    recall  f1-score   support\n",
      "\n",
      "           0       0.94      0.99      0.96      1206\n",
      "           1       0.73      0.32      0.45       112\n",
      "\n",
      "    accuracy                           0.93      1318\n",
      "   macro avg       0.84      0.66      0.71      1318\n",
      "weighted avg       0.92      0.93      0.92      1318\n",
      "\n",
      "2025-10-05 09:29:28,548 INFO: Finished category 'KP' in 106.2s\n",
      "2025-10-05 09:29:28,549 INFO: Starting training for category: APC\n",
      "2025-10-05 09:29:28,555 INFO: Train/test split sizes for 'APC': 5271 train, 1318 test\n",
      "2025-10-05 09:29:28,567 INFO: Starting GridSearchCV for 'APC' with param grid: {'lgbm__n_estimators': [100, 200, 500], 'lgbm__learning_rate': [0.01, 0.05, 0.1], 'lgbm__num_leaves': [31, 50, 70]}\n",
      "2025-10-05 09:29:28,567 INFO: Starting GridSearchCV for 'APC' with param grid: {'lgbm__n_estimators': [100, 200, 500], 'lgbm__learning_rate': [0.01, 0.05, 0.1], 'lgbm__num_leaves': [31, 50, 70]}\n"
     ]
    },
    {
     "name": "stdout",
     "output_type": "stream",
     "text": [
      "Training until validation scores don't improve for 50 rounds\n",
      "Early stopping, best iteration is:\n",
      "[57]\tvalid_0's binary_logloss: 0.166035\n"
     ]
    },
    {
     "name": "stderr",
     "output_type": "stream",
     "text": [
      "2025-10-05 09:31:11,451 INFO: GridSearchCV finished for 'APC' in 102.9s\n",
      "2025-10-05 09:31:11,452 INFO: Best parameters for APC: {'lgbm__learning_rate': 0.1, 'lgbm__n_estimators': 500, 'lgbm__num_leaves': 50}\n",
      "2025-10-05 09:31:11,453 INFO: Best CV score for APC: 0.1254\n",
      "2025-10-05 09:31:11,453 INFO: Fitting LGBMClassifier (sklearn API) for 'APC' with early_stopping_rounds=50\n",
      "2025-10-05 09:31:11,454 WARNING: sklearn fit with early_stopping_rounds raised TypeError for 'APC': LGBMClassifier.fit() got an unexpected keyword argument 'early_stopping_rounds'. Trying callbacks API...\n",
      "2025-10-05 09:31:11,452 INFO: Best parameters for APC: {'lgbm__learning_rate': 0.1, 'lgbm__n_estimators': 500, 'lgbm__num_leaves': 50}\n",
      "2025-10-05 09:31:11,453 INFO: Best CV score for APC: 0.1254\n",
      "2025-10-05 09:31:11,453 INFO: Fitting LGBMClassifier (sklearn API) for 'APC' with early_stopping_rounds=50\n",
      "2025-10-05 09:31:11,454 WARNING: sklearn fit with early_stopping_rounds raised TypeError for 'APC': LGBMClassifier.fit() got an unexpected keyword argument 'early_stopping_rounds'. Trying callbacks API...\n",
      "2025-10-05 09:31:11,598 INFO: sklearn fit with callbacks complete for 'APC'\n",
      "2025-10-05 09:31:11,608 INFO: Evaluation for 'APC':\n",
      "              precision    recall  f1-score   support\n",
      "\n",
      "           0       0.95      0.99      0.97      1247\n",
      "           1       0.27      0.04      0.07        71\n",
      "\n",
      "    accuracy                           0.94      1318\n",
      "   macro avg       0.61      0.52      0.52      1318\n",
      "weighted avg       0.91      0.94      0.92      1318\n",
      "\n",
      "2025-10-05 09:31:11,609 INFO: Finished category 'APC' in 103.1s\n",
      "2025-10-05 09:31:11,609 INFO: Starting training for category: FA\n",
      "2025-10-05 09:31:11,598 INFO: sklearn fit with callbacks complete for 'APC'\n",
      "2025-10-05 09:31:11,608 INFO: Evaluation for 'APC':\n",
      "              precision    recall  f1-score   support\n",
      "\n",
      "           0       0.95      0.99      0.97      1247\n",
      "           1       0.27      0.04      0.07        71\n",
      "\n",
      "    accuracy                           0.94      1318\n",
      "   macro avg       0.61      0.52      0.52      1318\n",
      "weighted avg       0.91      0.94      0.92      1318\n",
      "\n",
      "2025-10-05 09:31:11,609 INFO: Finished category 'APC' in 103.1s\n",
      "2025-10-05 09:31:11,609 INFO: Starting training for category: FA\n",
      "2025-10-05 09:31:11,614 INFO: Train/test split sizes for 'FA': 5271 train, 1318 test\n",
      "2025-10-05 09:31:11,614 INFO: Train/test split sizes for 'FA': 5271 train, 1318 test\n",
      "2025-10-05 09:31:11,627 INFO: Starting GridSearchCV for 'FA' with param grid: {'lgbm__n_estimators': [100, 200, 500], 'lgbm__learning_rate': [0.01, 0.05, 0.1], 'lgbm__num_leaves': [31, 50, 70]}\n",
      "2025-10-05 09:31:11,627 INFO: Starting GridSearchCV for 'FA' with param grid: {'lgbm__n_estimators': [100, 200, 500], 'lgbm__learning_rate': [0.01, 0.05, 0.1], 'lgbm__num_leaves': [31, 50, 70]}\n"
     ]
    },
    {
     "name": "stdout",
     "output_type": "stream",
     "text": [
      "Training until validation scores don't improve for 50 rounds\n",
      "Early stopping, best iteration is:\n",
      "[26]\tvalid_0's binary_logloss: 0.17604\n"
     ]
    },
    {
     "name": "stderr",
     "output_type": "stream",
     "text": [
      "2025-10-05 09:32:33,119 INFO: GridSearchCV finished for 'FA' in 81.5s\n",
      "2025-10-05 09:32:33,119 INFO: Best parameters for FA: {'lgbm__learning_rate': 0.01, 'lgbm__n_estimators': 100, 'lgbm__num_leaves': 31}\n",
      "2025-10-05 09:32:33,120 INFO: Best CV score for FA: 0.0000\n",
      "2025-10-05 09:32:33,120 INFO: Fitting LGBMClassifier (sklearn API) for 'FA' with early_stopping_rounds=50\n",
      "2025-10-05 09:32:33,120 WARNING: sklearn fit with early_stopping_rounds raised TypeError for 'FA': LGBMClassifier.fit() got an unexpected keyword argument 'early_stopping_rounds'. Trying callbacks API...\n",
      "2025-10-05 09:32:33,119 INFO: Best parameters for FA: {'lgbm__learning_rate': 0.01, 'lgbm__n_estimators': 100, 'lgbm__num_leaves': 31}\n",
      "2025-10-05 09:32:33,120 INFO: Best CV score for FA: 0.0000\n",
      "2025-10-05 09:32:33,120 INFO: Fitting LGBMClassifier (sklearn API) for 'FA' with early_stopping_rounds=50\n",
      "2025-10-05 09:32:33,120 WARNING: sklearn fit with early_stopping_rounds raised TypeError for 'FA': LGBMClassifier.fit() got an unexpected keyword argument 'early_stopping_rounds'. Trying callbacks API...\n",
      "2025-10-05 09:32:33,278 INFO: sklearn fit with callbacks complete for 'FA'\n",
      "2025-10-05 09:32:33,287 INFO: Evaluation for 'FA':\n",
      "              precision    recall  f1-score   support\n",
      "\n",
      "           0       0.99      1.00      1.00      1305\n",
      "           1       0.00      0.00      0.00        13\n",
      "\n",
      "    accuracy                           0.99      1318\n",
      "   macro avg       0.50      0.50      0.50      1318\n",
      "weighted avg       0.98      0.99      0.99      1318\n",
      "\n",
      "2025-10-05 09:32:33,288 INFO: Finished category 'FA' in 81.7s\n",
      "2025-10-05 09:32:33,278 INFO: sklearn fit with callbacks complete for 'FA'\n",
      "2025-10-05 09:32:33,287 INFO: Evaluation for 'FA':\n",
      "              precision    recall  f1-score   support\n",
      "\n",
      "           0       0.99      1.00      1.00      1305\n",
      "           1       0.00      0.00      0.00        13\n",
      "\n",
      "    accuracy                           0.99      1318\n",
      "   macro avg       0.50      0.50      0.50      1318\n",
      "weighted avg       0.98      0.99      0.99      1318\n",
      "\n",
      "2025-10-05 09:32:33,288 INFO: Finished category 'FA' in 81.7s\n",
      "2025-10-05 09:32:33,288 INFO: Starting training for category: CP\n",
      "2025-10-05 09:32:33,298 INFO: Train/test split sizes for 'CP': 5271 train, 1318 test\n",
      "2025-10-05 09:32:33,288 INFO: Starting training for category: CP\n",
      "2025-10-05 09:32:33,298 INFO: Train/test split sizes for 'CP': 5271 train, 1318 test\n",
      "2025-10-05 09:32:33,308 INFO: Starting GridSearchCV for 'CP' with param grid: {'lgbm__n_estimators': [100, 200, 500], 'lgbm__learning_rate': [0.01, 0.05, 0.1], 'lgbm__num_leaves': [31, 50, 70]}\n",
      "2025-10-05 09:32:33,308 INFO: Starting GridSearchCV for 'CP' with param grid: {'lgbm__n_estimators': [100, 200, 500], 'lgbm__learning_rate': [0.01, 0.05, 0.1], 'lgbm__num_leaves': [31, 50, 70]}\n"
     ]
    },
    {
     "name": "stdout",
     "output_type": "stream",
     "text": [
      "Training until validation scores don't improve for 50 rounds\n",
      "Early stopping, best iteration is:\n",
      "[79]\tvalid_0's binary_logloss: 0.0509441\n"
     ]
    },
    {
     "name": "stderr",
     "output_type": "stream",
     "text": [
      "2025-10-05 09:34:33,571 INFO: GridSearchCV finished for 'CP' in 120.3s\n",
      "2025-10-05 09:34:33,572 INFO: Best parameters for CP: {'lgbm__learning_rate': 0.1, 'lgbm__n_estimators': 500, 'lgbm__num_leaves': 70}\n",
      "2025-10-05 09:34:33,572 INFO: Best CV score for CP: 0.4307\n",
      "2025-10-05 09:34:33,572 INFO: Fitting LGBMClassifier (sklearn API) for 'CP' with early_stopping_rounds=50\n",
      "2025-10-05 09:34:33,573 WARNING: sklearn fit with early_stopping_rounds raised TypeError for 'CP': LGBMClassifier.fit() got an unexpected keyword argument 'early_stopping_rounds'. Trying callbacks API...\n",
      "2025-10-05 09:34:33,572 INFO: Best parameters for CP: {'lgbm__learning_rate': 0.1, 'lgbm__n_estimators': 500, 'lgbm__num_leaves': 70}\n",
      "2025-10-05 09:34:33,572 INFO: Best CV score for CP: 0.4307\n",
      "2025-10-05 09:34:33,572 INFO: Fitting LGBMClassifier (sklearn API) for 'CP' with early_stopping_rounds=50\n",
      "2025-10-05 09:34:33,573 WARNING: sklearn fit with early_stopping_rounds raised TypeError for 'CP': LGBMClassifier.fit() got an unexpected keyword argument 'early_stopping_rounds'. Trying callbacks API...\n",
      "2025-10-05 09:34:33,770 INFO: sklearn fit with callbacks complete for 'CP'\n",
      "2025-10-05 09:34:33,780 INFO: Evaluation for 'CP':\n",
      "              precision    recall  f1-score   support\n",
      "\n",
      "           0       0.92      0.98      0.95      1185\n",
      "           1       0.61      0.29      0.39       133\n",
      "\n",
      "    accuracy                           0.91      1318\n",
      "   macro avg       0.77      0.63      0.67      1318\n",
      "weighted avg       0.89      0.91      0.89      1318\n",
      "\n",
      "2025-10-05 09:34:33,781 INFO: Finished category 'CP' in 120.5s\n",
      "2025-10-05 09:34:33,770 INFO: sklearn fit with callbacks complete for 'CP'\n",
      "2025-10-05 09:34:33,780 INFO: Evaluation for 'CP':\n",
      "              precision    recall  f1-score   support\n",
      "\n",
      "           0       0.92      0.98      0.95      1185\n",
      "           1       0.61      0.29      0.39       133\n",
      "\n",
      "    accuracy                           0.91      1318\n",
      "   macro avg       0.77      0.63      0.67      1318\n",
      "weighted avg       0.89      0.91      0.89      1318\n",
      "\n",
      "2025-10-05 09:34:33,781 INFO: Finished category 'CP' in 120.5s\n"
     ]
    },
    {
     "name": "stdout",
     "output_type": "stream",
     "text": [
      "Training until validation scores don't improve for 50 rounds\n",
      "Early stopping, best iteration is:\n",
      "[37]\tvalid_0's binary_logloss: 0.2344\n"
     ]
    }
   ],
   "source": [
    "# --- One-vs-Rest training moved to separate per-category cells\n",
    "# The original loop has been split: define and run the per-category training cells below\n",
    "import time\n",
    "classifiers = {}\n",
    "# Run the helper cell and then each per-category training cell to populate `classifiers`\n"
   ]
  },
  {
   "cell_type": "code",
   "execution_count": null,
   "id": "0e5f6bd9",
   "metadata": {},
   "outputs": [],
   "source": [
    "# Helper: train a single category and return a fitted pipeline\n",
    "def train_category(category, X, y, random_state=42, param_grid=None):\n",
    "    import time\n",
    "    logger.info(f\"Starting training for category: {category}\")\n",
    "    t_start_cat = time.time()\n",
    "\n",
    "    y_binary = (y == category).astype(int)\n",
    "    # Split (try stratify)\n",
    "    try:\n",
    "        X_train, X_test, y_train, y_test = train_test_split(X, y_binary, test_size=0.2, random_state=random_state, stratify=y_binary)\n",
    "    except ValueError:\n",
    "        X_train, X_test, y_train, y_test = train_test_split(X, y_binary, test_size=0.2, random_state=random_state)\n",
    "\n",
    "    preproc = Pipeline([\n",
    "        ('imputer', SimpleImputer(strategy='median')),\n",
    "        ('scaler', StandardScaler()),\n",
    "    ])\n",
    "    X_train_t = preproc.fit_transform(X_train)\n",
    "    X_test_t = preproc.transform(X_test)\n",
    "\n",
    "    search_pipe = Pipeline([('lgbm', lgb.LGBMClassifier(random_state=42, verbose=-1))])\n",
    "    if param_grid is None:\n",
    "        param_grid = {\n",
    "            'lgbm__n_estimators': [100, 200, 500],\n",
    "            'lgbm__learning_rate': [0.01, 0.05, 0.1],\n",
    "            'lgbm__num_leaves': [31, 50, 70],\n",
    "        }\n",
    "    grid = GridSearchCV(search_pipe, param_grid, cv=3, n_jobs=-1, scoring='f1')\n",
    "    grid.fit(X_train_t, y_train)\n",
    "    logger.info(f\"GridSearchCV finished for '{category}' in {time.time() - t_start_cat:.1f}s\")\n",
    "\n",
    "    lgbm_params = {k.split('__',1)[1]: v for k, v in grid.best_params_.items() if k.startswith('lgbm__')}\n",
    "    clf = lgb.LGBMClassifier(random_state=42, verbose=-1, **lgbm_params)\n",
    "    clf.set_params(n_estimators=5000)\n",
    "\n",
    "    # Fit with early stopping (try sklearn API, then callbacks, then native train)\n",
    "    try:\n",
    "        clf.fit(X_train_t, y_train, eval_set=[(X_test_t, y_test)], early_stopping_rounds=50, verbose=False)\n",
    "    except TypeError:\n",
    "        try:\n",
    "            clf.fit(X_train_t, y_train, eval_set=[(X_test_t, y_test)], callbacks=[lgb.early_stopping(50), lgb.log_evaluation(0)])\n",
    "        except Exception:\n",
    "            dtrain = lgb.Dataset(X_train_t, label=y_train)\n",
    "            dvalid = lgb.Dataset(X_test_t, label=y_test, reference=dtrain)\n",
    "            params = clf.get_params()\n",
    "            native_params = {\n",
    "                'learning_rate': params.get('learning_rate', 0.1),\n",
    "                'num_leaves': params.get('num_leaves', 31),\n",
    "                'max_depth': params.get('max_depth', -1),\n",
    "                'min_data_in_leaf': params.get('min_child_samples', 20),\n",
    "                'subsample': params.get('subsample', 1.0),\n",
    "                'colsample_bytree': params.get('colsample_bytree', 1.0),\n",
    "                'reg_alpha': params.get('reg_alpha', 0.0),\n",
    "                'reg_lambda': params.get('reg_lambda', 0.0),\n",
    "                'objective': 'binary',\n",
    "                'verbosity': -1,\n",
    "            }\n",
    "            gbm = lgb.train(native_params, dtrain, num_boost_round=5000, valid_sets=[dvalid], early_stopping_rounds=50, verbose_eval=False)\n",
    "            class _NativeWrapper:\n",
    "                def __init__(self, booster):\n",
    "                    self.booster_ = booster\n",
    "                def predict(self, X):\n",
    "                    probs = self.booster_.predict(X, num_iteration=self.booster_.best_iteration)\n",
    "                    return (probs > 0.5).astype(int)\n",
    "                def predict_proba(self, X):\n",
    "                    probs = self.booster_.predict(X, num_iteration=self.booster_.best_iteration)\n",
    "                    return np.vstack([1 - probs, probs]).T\n",
    "            clf = _NativeWrapper(gbm)\n",
    "\n",
    "    y_pred = clf.predict(X_test_t)\n",
    "    logger.info(f\"Evaluation for '{category}':\\n{classification_report(y_test, y_pred)}\")\n",
    "\n",
    "    pipeline = Pipeline([('preproc', preproc), ('lgbm', clf)])\n",
    "    logger.info(f\"Finished category '{category}' in {time.time() - t_start_cat:.1f}s\")\n",
    "    return pipeline\n"
   ]
  },
  {
   "cell_type": "code",
   "execution_count": null,
   "id": "fbdc80bb",
   "metadata": {},
   "outputs": [],
   "source": [
    "# --- Train category: APC\n",
    "clf = train_category('APC', X, y)\n",
    "classifiers['APC'] = clf\n"
   ]
  },
  {
   "cell_type": "code",
   "execution_count": null,
   "id": "f78e657c",
   "metadata": {},
   "outputs": [],
   "source": [
    "# --- Train category: CP\n",
    "clf = train_category('CP', X, y)\n",
    "classifiers['CP'] = clf\n"
   ]
  },
  {
   "cell_type": "code",
   "execution_count": null,
   "id": "0442f66b",
   "metadata": {},
   "outputs": [],
   "source": [
    "# --- Train category: FA\n",
    "clf = train_category('FA', X, y)\n",
    "classifiers['FA'] = clf\n"
   ]
  },
  {
   "cell_type": "code",
   "execution_count": null,
   "id": "58fb2b22",
   "metadata": {},
   "outputs": [],
   "source": [
    "# --- Train category: FP\n",
    "clf = train_category('FP', X, y)\n",
    "classifiers['FP'] = clf\n"
   ]
  },
  {
   "cell_type": "code",
   "execution_count": null,
   "id": "ac4e14b8",
   "metadata": {},
   "outputs": [],
   "source": [
    "# --- Train category: KP\n",
    "clf = train_category('KP', X, y)\n",
    "classifiers['KP'] = clf\n"
   ]
  },
  {
   "cell_type": "code",
   "execution_count": null,
   "id": "807eb674",
   "metadata": {},
   "outputs": [],
   "source": [
    "# --- Train category: PC\n",
    "clf = train_category('PC', X, y)\n",
    "classifiers['PC'] = clf\n"
   ]
  },
  {
   "cell_type": "code",
   "execution_count": null,
   "id": "cfde281a",
   "metadata": {},
   "outputs": [
    {
     "name": "stdout",
     "output_type": "stream",
     "text": [
      "Classification report for VotingClassifier:\n",
      "\n",
      "              precision    recall  f1-score   support\n",
      "\n",
      "         APC       0.34      0.15      0.21        71\n",
      "          CP       0.62      0.44      0.52       133\n",
      "          FA       1.00      0.08      0.14        13\n",
      "          FP       0.59      0.46      0.51       188\n",
      "          KP       0.64      0.45      0.53       112\n",
      "          PC       0.75      0.90      0.81       801\n",
      "\n",
      "    accuracy                           0.70      1318\n",
      "   macro avg       0.66      0.41      0.46      1318\n",
      "weighted avg       0.68      0.70      0.68      1318\n",
      "\n"
     ]
    },
    {
     "data": {
      "image/png": "[encoded data removed]",
      "text/plain": [
       "<Figure size 800x600 with 2 Axes>"
      ]
     },
     "metadata": {},
     "output_type": "display_data"
    }
   ],
   "source": [
    "# --- Meta-Classifier (use pretrained per-category classifiers) ---\n",
    "# We will not call VotingClassifier.fit because it would retrain estimators.\n",
    "# Instead we construct a small wrapper that uses the already-trained `classifiers` dict.\n",
    "from sklearn.base import BaseEstimator, ClassifierMixin\n",
    "\n",
    "class VotingFromPretrained(BaseEstimator, ClassifierMixin):\n",
    "    def __init__(self, estimators):\n",
    "        # estimators: dict name->fitted_pipeline (preproc + clf)\n",
    "        self.estimators = estimators\n",
    "        self.class_order = list(estimators.keys())\n",
    "\n",
    "    def predict_proba(self, X):\n",
    "        # collect prob of positive class for each binary estimator\n",
    "        probs = np.column_stack([\n",
    "            self.estimators[c].predict_proba(X)[:, 1] for c in self.class_order\n",
    "        ])\n",
    "        # normalize rows to sum to 1 (so columns mimic multiclass probs)\n",
    "        row_sums = probs.sum(axis=1, keepdims=True)\n",
    "        row_sums[row_sums == 0] = 1.0\n",
    "        return probs / row_sums\n",
    "\n",
    "    def predict(self, X):\n",
    "        probs = self.predict_proba(X)\n",
    "        idx = np.argmax(probs, axis=1)\n",
    "        return np.array([self.class_order[i] for i in idx])\n",
    "\n",
    "# build meta-ensemble from pretrained classifiers\n",
    "meta = VotingFromPretrained(classifiers)\n",
    "\n",
    "# Evaluate on holdout split (use same split convention as before)\n",
    "X_train_multi, X_test_multi, y_train_multi, y_test_multi = train_test_split(X, y, test_size=0.2, random_state=42, stratify=y)\n",
    "y_pred_multi = meta.predict(X_test_multi)\n",
    "print('Classification report for pretrained ensemble:\\n')\n",
    "print(classification_report(y_test_multi, y_pred_multi))\n",
    "\n",
    "# Confusion matrix\n",
    "class_order = meta.class_order\n",
    "cm = confusion_matrix(y_test_multi, y_pred_multi, labels=class_order)\n",
    "fig, ax = plt.subplots(figsize=(8, 6))\n",
    "disp = ConfusionMatrixDisplay(confusion_matrix=cm, display_labels=class_order)\n",
    "disp.plot(cmap='Blues', ax=ax, xticks_rotation=45)\n",
    "ax.set_title('Confusion Matrix - Pretrained Ensemble')\n",
    "plt.tight_layout()\n",
    "plt.show()"
   ]
  }
 ],
 "metadata": {
  "kernelspec": {
   "display_name": "dados",
   "language": "python",
   "name": "python3"
  },
  "language_info": {
   "codemirror_mode": {
    "name": "ipython",
    "version": 3
   },
   "file_extension": ".py",
   "mimetype": "text/x-python",
   "name": "python",
   "nbconvert_exporter": "python",
   "pygments_lexer": "ipython3",
   "version": "3.11.13"
  }
 },
 "nbformat": 4,
 "nbformat_minor": 5
}
